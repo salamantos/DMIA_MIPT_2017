{
 "cells": [
  {
   "cell_type": "markdown",
   "metadata": {},
   "source": [
    "# Часть 1\n",
    "\n",
    "Поставить python и все библиотеки"
   ]
  },
  {
   "cell_type": "code",
   "execution_count": 1,
   "metadata": {
    "collapsed": true
   },
   "outputs": [],
   "source": [
    "from sklearn.ensemble import RandomForestClassifier\n",
    "from sklearn.datasets import load_iris\n",
    "from sklearn.model_selection import cross_val_score\n",
    "\n",
    "import numpy as np"
   ]
  },
  {
   "cell_type": "code",
   "execution_count": 2,
   "metadata": {},
   "outputs": [
    {
     "name": "stdout",
     "output_type": "stream",
     "text": [
      "0.7132\n"
     ]
    }
   ],
   "source": [
    "iris = load_iris()\n",
    "\n",
    "X = iris.data[:, :2]\n",
    "y = iris.target\n",
    "\n",
    "print round(np.mean(cross_val_score(RandomForestClassifier(random_state=42), X, y, cv=3)), 4)"
   ]
  },
  {
   "cell_type": "markdown",
   "metadata": {},
   "source": [
    "#### Вопрос 1. Что выведет этот код?\n",
    "0.7132"
   ]
  },
  {
   "cell_type": "markdown",
   "metadata": {},
   "source": [
    "# Часть 2\n"
   ]
  },
  {
   "cell_type": "code",
   "execution_count": 3,
   "metadata": {
    "collapsed": true
   },
   "outputs": [],
   "source": [
    "iris = load_iris()\n",
    "\n",
    "X = iris.data[:, :2]\n",
    "y = iris.target"
   ]
  },
  {
   "cell_type": "markdown",
   "metadata": {},
   "source": [
    "#### Вопрос 2. Каков минимальный радиус круга, содержащего все точки из $X$? Ответ округлите до 4 знака после запятой."
   ]
  },
  {
   "cell_type": "markdown",
   "metadata": {},
   "source": [
    "https://ru.wikipedia.org/wiki/Пауль_(осьминог)\n",
    "\n",
    "Этот осьминог предсказывал результаты футбольных матчей на  ЧЕ-2008 и ЧМ-2010. Нужно проанализировать его предсказания, считая, что футбольный матч обязательно заканчивается победой одной из команд, а осьминог возможно выбирал равновероятно наугад."
   ]
  },
  {
   "cell_type": "markdown",
   "metadata": {},
   "source": [
    "#### Вопрос 3. Какова вероятность получить именно те предсказания, что дал осьминог, выбирая наугад? Ответ округлите до 5 знака после запятой."
   ]
  },
  {
   "cell_type": "markdown",
   "metadata": {},
   "source": [
    "#### Вопрос 4. Какова вероятность ошибиться не меньшее число раз, чем осьминог Пауль, выбирая наугад? Ответ округлите до 5 знака после запятой."
   ]
  },
  {
   "cell_type": "markdown",
   "metadata": {},
   "source": [
    "# Часть 3\n"
   ]
  },
  {
   "cell_type": "markdown",
   "metadata": {},
   "source": [
    "#### Вопрос 5. У вас есть набор зависимости $y$ от одной переменной $x$, причём вы знаете, что эта зависимость линейная ($y=ax + b$). Вам нужно восстановить эту зависимость, решив оптимизационную задачу $\\min_{a, b} \\sum_{i=1}^n (ax_i + b - y_i)^2$.\n",
    "\n",
    "#### Проблема в том, что выборка очень большая, поэтому её нельзя полностью загрузить в память. Ответом на вопрос является строка в питоновском формате '{}_{}'.format(round(a, 5), round(b, 5)), например, '0.00001_0.00002'."
   ]
  },
  {
   "cell_type": "code",
   "execution_count": null,
   "metadata": {
    "collapsed": true
   },
   "outputs": [],
   "source": [
    "def generator():\n",
    "    rand_gen = np.random.RandomState(42)\n",
    "    for i in xrange(100000):\n",
    "        arr_of_x = 10 * rand_gen.uniform(size=10000)\n",
    "        arr_of_noise = 40 * rand_gen.normal(size=10000)\n",
    "        for x, noise in zip(arr_of_x, arr_of_noise):\n",
    "            yield x, 3.14 * x + 8.3 + noise"
   ]
  },
  {
   "cell_type": "code",
   "execution_count": null,
   "metadata": {
    "collapsed": true
   },
   "outputs": [],
   "source": [
    "def solver(seq):\n",
    "    # Напишите здесь свой код\n",
    "    return a, b\n",
    "        "
   ]
  },
  {
   "cell_type": "code",
   "execution_count": null,
   "metadata": {
    "collapsed": true
   },
   "outputs": [],
   "source": [
    "%%time\n",
    "a, b = solver(generator())\n",
    "print '{}_{}'.format(round(a, 5), round(b, 5))"
   ]
  },
  {
   "cell_type": "markdown",
   "metadata": {},
   "source": [
    "#### Вам дается две выборки с пользовательскими сессиями - id-шниками просмотренных и id-шниками купленных товаров. Одна выборка будет использоваться для обучения (оценки популярностей товаров), а другая - для теста.\n",
    "\n",
    "#### В файлах записаны сессии по одной в каждой строке. Формат сессии: id просмотренных товаров через \",\" затем идёт \";\" после чего следуют id купленных товаров (если такие имеются), разделённые запятой. Например, \"1,2,3,4;\" или \"1,2,3,4;5,6\". Гарантируется, что среди id купленных товаров все различные.\n",
    "\n",
    "#### Вопросы 6-7. Будем считать, что цена товара равна его id % 100 + 1. Найдите разницу денежного recall для сортировки по вероятности покупки (методы уже реализованы) без умножения на цену и с умножением на цену для train и для test. Ответ округлите до 5 знака после запятой.\n",
    "\n",
    "#### У вас есть код для подсчёта обычного recall, вам нужно переписать его, взвесив объекты их ценой. Знаменатель будет равен сумме цен купленных товаров.\n",
    "\n"
   ]
  },
  {
   "cell_type": "code",
   "execution_count": null,
   "metadata": {
    "collapsed": true
   },
   "outputs": [],
   "source": [
    "from collections import Counter\n",
    "from collections import OrderedDict\n",
    "import numpy as np\n",
    "import pandas\n",
    "import heapq"
   ]
  },
  {
   "cell_type": "code",
   "execution_count": null,
   "metadata": {
    "collapsed": true
   },
   "outputs": [],
   "source": [
    "visit_popularity = Counter()\n",
    "purchase_popularity = Counter()\n",
    "\n",
    "with open('train.txt', 'r') as f:\n",
    "    for line in f.xreadlines():\n",
    "        visits, purchases = line.strip().split(';')\n",
    "        for visit in visits.split(','):\n",
    "            visit_popularity[visit] += 1\n",
    "        if purchases != '':\n",
    "            for purchase in purchases.split(','):\n",
    "                purchase_popularity[purchase] += 1\n",
    "\n",
    "                \n",
    "def get_item_price(item_id):\n",
    "    return int(item_id) % 100 + 1"
   ]
  },
  {
   "cell_type": "code",
   "execution_count": null,
   "metadata": {
    "collapsed": true
   },
   "outputs": [],
   "source": [
    "def recommend_by_purchase(items, max_count):\n",
    "    return heapq.nlargest(max_count, OrderedDict.fromkeys(items), key=lambda x: purchase_popularity.get(x, 0))\n",
    "\n",
    "def recommend_by_purchase_price_aware(items, max_count):\n",
    "    # Напишите здесь свой код"
   ]
  },
  {
   "cell_type": "code",
   "execution_count": null,
   "metadata": {
    "collapsed": true
   },
   "outputs": [],
   "source": [
    "# Допишите код в функции, чтобы считался recall, взвешенный ценами\n",
    "\n",
    "def calculate_metrics(recommend, max_count, sessions_file):\n",
    "    with open(sessions_file, 'r') as f:\n",
    "        avg_recall = np.zeros(max_count)\n",
    "        sessions_count = 0\n",
    "        for line in f.xreadlines():\n",
    "            visits, purchases = line.strip().split(';')\n",
    "            if purchases != '':\n",
    "                visits = visits.split(',')\n",
    "                purchases = set(purchases.split(','))\n",
    "\n",
    "                rec = recommend(visits, max_count)\n",
    "                rec_hits = np.array([(x in purchases) for x in rec])\n",
    "                hits = np.zeros(max_count)\n",
    "                hits[:len(rec_hits)] = rec_hits\n",
    "                \n",
    "                sessions_count += 1\n",
    "                avg_recall +=  np.cumsum(hits) / len(purchases)\n",
    "\n",
    "    return pandas.DataFrame({\n",
    "            'k': np.arange(max_count) + 1,\n",
    "            'avg_recall@k': avg_recall / sessions_count,\n",
    "    }).set_index('k')"
   ]
  },
  {
   "cell_type": "code",
   "execution_count": null,
   "metadata": {
    "collapsed": true
   },
   "outputs": [],
   "source": [
    "print round((\n",
    "    calculate_metrics(recommend_by_purchase_price_aware, 3, 'train.txt') \n",
    "    - calculate_metrics(recommend_by_purchase, 3, 'train.txt')\n",
    ")['avg_recall@k'][3], 5)"
   ]
  },
  {
   "cell_type": "code",
   "execution_count": null,
   "metadata": {
    "collapsed": true
   },
   "outputs": [],
   "source": [
    "print round((\n",
    "    calculate_metrics(recommend_by_purchase_price_aware, 3, 'test.txt') \n",
    "    - calculate_metrics(recommend_by_purchase, 3, 'test.txt')\n",
    ")['avg_recall@k'][3], 5)"
   ]
  },
  {
   "cell_type": "code",
   "execution_count": null,
   "metadata": {
    "collapsed": true
   },
   "outputs": [],
   "source": []
  },
  {
   "cell_type": "code",
   "execution_count": null,
   "metadata": {
    "collapsed": true
   },
   "outputs": [],
   "source": []
  }
 ],
 "metadata": {
  "kernelspec": {
   "display_name": "Python 2",
   "language": "python",
   "name": "python2"
  },
  "language_info": {
   "codemirror_mode": {
    "name": "ipython",
    "version": 2
   },
   "file_extension": ".py",
   "mimetype": "text/x-python",
   "name": "python",
   "nbconvert_exporter": "python",
   "pygments_lexer": "ipython2",
   "version": "2.7.13"
  }
 },
 "nbformat": 4,
 "nbformat_minor": 2
}
